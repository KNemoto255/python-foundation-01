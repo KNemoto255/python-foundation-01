{
 "cells": [
  {
   "cell_type": "markdown",
   "id": "e035e284",
   "metadata": {},
   "source": [
    "# 演算子の使い方\n",
    "Pythonでは、様々な算術演算子を使うことができる。\n",
    "データの型によって、演算子の挙動は変化する。\n",
    "\n",
    "演算子の使い方次第でタイプエラーが起きることもある。\n",
    "このような場合には、型を変換してから演算する。"
   ]
  },
  {
   "cell_type": "code",
   "execution_count": 4,
   "id": "4a5ee042",
   "metadata": {},
   "outputs": [
    {
     "name": "stdout",
     "output_type": "stream",
     "text": [
      "5\n",
      "-1\n",
      "30\n",
      "15625\n",
      "1.4285714285714286\n",
      "1\n",
      "3\n",
      "103\n",
      "Hello, Kira!\n",
      "Hello, Hello, Hello, \n"
     ]
    }
   ],
   "source": [
    "print(2+3)\n",
    "print(2-3)\n",
    "print(5*6)\n",
    "print(5**6)\n",
    "\n",
    "print(10/7)\n",
    "print(10//7)\n",
    "print(10%7)\n",
    "\n",
    "print(\"10\" + \"3\")\n",
    "print(\"Hello, \" + \"Kira!\")\n",
    "\n",
    "print(\"Hello, \"*3)"
   ]
  },
  {
   "cell_type": "code",
   "execution_count": 5,
   "id": "48851921",
   "metadata": {},
   "outputs": [
    {
     "name": "stdout",
     "output_type": "stream",
     "text": [
      "45\n",
      "1530\n"
     ]
    }
   ],
   "source": [
    "print(15 + int(\"30\"))\n",
    "print(str(15) + \"30\")"
   ]
  },
  {
   "cell_type": "markdown",
   "id": "dd3e568a",
   "metadata": {},
   "source": [
    "# 浮動小数点数の演算の注意点\n",
    "PC内では2進数で演算が行われるため、\n",
    "10 進数を表現するのに無限循環小数となってしまう場合がある。\n",
    "10 進数を使った厳密な演算が行いたい場合は、decimalというライブラリーを使う。"
   ]
  },
  {
   "cell_type": "code",
   "execution_count": 6,
   "id": "5a41ca8c",
   "metadata": {},
   "outputs": [
    {
     "name": "stdout",
     "output_type": "stream",
     "text": [
      "0.6000000000000001\n",
      "False\n"
     ]
    }
   ],
   "source": [
    "print(0.2 * 3)\n",
    "print(0.2 * 3 == 0.6)"
   ]
  },
  {
   "cell_type": "code",
   "execution_count": 8,
   "id": "5905dbd1",
   "metadata": {},
   "outputs": [
    {
     "name": "stdout",
     "output_type": "stream",
     "text": [
      "0.6\n",
      "True\n"
     ]
    }
   ],
   "source": [
    "import decimal\n",
    "\n",
    "d1 = decimal.Decimal(\"0.2\")\n",
    "d2 = decimal.Decimal(\"3\")\n",
    "d3 = decimal.Decimal(\"0.6\")\n",
    "\n",
    "print(d1 * d2)\n",
    "print(d1 * d2 == d3)"
   ]
  },
  {
   "cell_type": "markdown",
   "id": "d828ab72",
   "metadata": {},
   "source": [
    "# 代入演算子の使い型\n",
    "Pythonの代入演算子には値を代入する他、算術演算・ビット演算を兼ねた機能を提供する複合演算子もある"
   ]
  },
  {
   "cell_type": "code",
   "execution_count": 10,
   "id": "fcef5caf",
   "metadata": {},
   "outputs": [
    {
     "name": "stdout",
     "output_type": "stream",
     "text": [
      "2\n",
      "1\n",
      "25\n",
      "5.0\n",
      "625.0\n"
     ]
    }
   ],
   "source": [
    "i = 1\n",
    "i += 1\n",
    "print(i)\n",
    "\n",
    "i -= 1\n",
    "print(i)\n",
    "\n",
    "i *= 25\n",
    "print(i)\n",
    "\n",
    "i /= 5\n",
    "print(i)\n",
    "\n",
    "i **= 4\n",
    "print(i)"
   ]
  },
  {
   "cell_type": "markdown",
   "id": "3f81e0de",
   "metadata": {},
   "source": [
    "# Pythonにおける代入と参照渡し\n",
    "Pythonにおける代入は、変数のメモリ上の場所を参照する”参照渡し”となっている。\n",
    "代入を行うと、変数が異なるだけで参照先＝オブジェクトは同じという状態になる"
   ]
  },
  {
   "cell_type": "code",
   "execution_count": 11,
   "id": "fab1f67e",
   "metadata": {},
   "outputs": [
    {
     "name": "stdout",
     "output_type": "stream",
     "text": [
      "100\n",
      "1587547952592\n",
      "1587547952592\n"
     ]
    }
   ],
   "source": [
    "n_01 = 100\n",
    "n_02 = n_01\n",
    "\n",
    "print(n_02)\n",
    "print(id(n_01))\n",
    "print(id(n_02))"
   ]
  },
  {
   "cell_type": "markdown",
   "id": "d4550534",
   "metadata": {},
   "source": [
    "# ミュータブル型・イミュータブル型の違い\n",
    "list型はミュータブルで、オブジェクトはそのままに中身を変更できる\n",
    "int型はイミュータブルで、中身を変更するとそれ以前のオブジェクトとは別のオブジェクトとなる"
   ]
  },
  {
   "cell_type": "code",
   "execution_count": 13,
   "id": "671fc7eb",
   "metadata": {},
   "outputs": [
    {
     "name": "stdout",
     "output_type": "stream",
     "text": [
      "[100, 2, 3]\n",
      "[100, 2, 3]\n",
      "22\n",
      "2\n"
     ]
    }
   ],
   "source": [
    "#data型の場合 - ミュータブルなので、data1・data2が同じオブジェクトを参照する\n",
    "data1 = [1,2,3]\n",
    "data2 = data1\n",
    "data1[0] = 100\n",
    "print(data1)\n",
    "print(data2)\n",
    "\n",
    "#int型の場合 - イミュータブルなので、演算子を使うとx・yは別のオブジェクトとなる\n",
    "x = 2\n",
    "y = x\n",
    "x += 20\n",
    "print(x)\n",
    "print(y)"
   ]
  },
  {
   "cell_type": "markdown",
   "id": "fda71735",
   "metadata": {},
   "source": [
    "# アンパック代入\n",
    "list型・disctionary型を分解し、個々の変数に代入することができる。\n",
    "この際、左辺変数と右辺（リスト）の要素数は一致していなければならない。\n",
    "変数を少なくしたい時、最後の変数に*をつけることで最後の変数に残りの要素をまとめて代入することができる"
   ]
  },
  {
   "cell_type": "code",
   "execution_count": 14,
   "id": "27c8c514",
   "metadata": {},
   "outputs": [
    {
     "name": "stdout",
     "output_type": "stream",
     "text": [
      "1\n",
      "2\n",
      "3\n",
      "4\n",
      "5\n"
     ]
    }
   ],
   "source": [
    "data = [1,2,3,4,5]\n",
    "a,b,c,d,e = data\n",
    "\n",
    "print(a)\n",
    "print(b)\n",
    "print(c)\n",
    "print(d)\n",
    "print(e)"
   ]
  },
  {
   "cell_type": "code",
   "execution_count": 15,
   "id": "b37b27dc",
   "metadata": {},
   "outputs": [
    {
     "name": "stdout",
     "output_type": "stream",
     "text": [
      "1 2 [3, 4, 5]\n",
      "1 [2, 3, 4] 5\n",
      "[1, 2, 3] 4 5\n"
     ]
    }
   ],
   "source": [
    "data = [1,2,3,4,5]\n",
    "a,b,*c = data\n",
    "print(a,b,c)\n",
    "\n",
    "data = [1,2,3,4,5]\n",
    "a,*b,c = data\n",
    "print(a,b,c)\n",
    "\n",
    "data = [1,2,3,4,5]\n",
    "*a,b,c = data\n",
    "print(a,b,c)"
   ]
  },
  {
   "cell_type": "code",
   "execution_count": 16,
   "id": "9960a1f1",
   "metadata": {},
   "outputs": [
    {
     "name": "stdout",
     "output_type": "stream",
     "text": [
      "1 5\n"
     ]
    }
   ],
   "source": [
    "data = [1,2,3,4,5]\n",
    "a,*_,b = data\n",
    "print(a,b)"
   ]
  },
  {
   "cell_type": "markdown",
   "id": "90c6f604",
   "metadata": {},
   "source": [
    "# 比較演算子\n",
    "左辺・右辺の値を比較する。結果はTrue / Falseで返される。\n",
    "異なる型での比較は、多くの場合Falseとなる。浮動小数点数を比較するには、2 進数による誤差を考慮しイプシロンのような丸め単位を使うのが有効"
   ]
  },
  {
   "cell_type": "code",
   "execution_count": 19,
   "id": "4148a0bd",
   "metadata": {},
   "outputs": [
    {
     "name": "stdout",
     "output_type": "stream",
     "text": [
      "True\n",
      "False\n",
      "False\n",
      "True\n",
      "\n",
      "\n",
      "False\n",
      "True\n",
      "True\n",
      "False\n",
      "\n",
      "\n",
      "False\n",
      "False\n"
     ]
    }
   ],
   "source": [
    "print(10 > 5)\n",
    "print(10 < 5)\n",
    "print(10 == 5)\n",
    "print(10 != 5)\n",
    "print(\"\\n\")\n",
    "\n",
    "print([1,2] is [1,3])\n",
    "print([1,2] is not [1,3])\n",
    "print(3 in [1,3])\n",
    "print(3 not in [1,3])\n",
    "print(\"\\n\")\n",
    "\n",
    "print(1 == \"1\")\n",
    "print(False == None)"
   ]
  },
  {
   "cell_type": "code",
   "execution_count": 22,
   "id": "23f930f3",
   "metadata": {},
   "outputs": [
    {
     "name": "stdout",
     "output_type": "stream",
     "text": [
      "True\n",
      "True\n",
      "False\n",
      "True\n"
     ]
    }
   ],
   "source": [
    "import math\n",
    "epsilon = 0.000001\n",
    "\n",
    "x = 0.2 * 3\n",
    "y = 0.6\n",
    "\n",
    "print(abs(x-y) < epsilon)\n",
    "print(math.isclose(0.2*3, 0.6))\n",
    "\n",
    "#rel_tolで大数との割合で比較する相対誤差、abs_tolで定数を使った絶対誤差を比較できる\n",
    "print(math.isclose(0.1, 0.1001, rel_tol=0.0001))\n",
    "print(math.isclose(0.1, 0.1001, rel_tol=0.001))"
   ]
  },
  {
   "cell_type": "markdown",
   "id": "adf58b97",
   "metadata": {},
   "source": [
    "# 同一性と同値性の比較\n",
    "is と == とでは比較する内容が異なる。\n",
    "isは参照値が同じオブジェクトかを、==はオブジェクトが同じ値かを比較する"
   ]
  },
  {
   "cell_type": "code",
   "execution_count": 23,
   "id": "116d4a35",
   "metadata": {},
   "outputs": [
    {
     "name": "stdout",
     "output_type": "stream",
     "text": [
      "True\n",
      "False\n"
     ]
    }
   ],
   "source": [
    "data1 = [1,2,3]\n",
    "data2 = [1,2,3]\n",
    "\n",
    "print(data1 == data2)\n",
    "print(data1 is data2)"
   ]
  },
  {
   "cell_type": "markdown",
   "id": "ce1f55f8",
   "metadata": {},
   "source": [
    "# 論理演算子\n",
    "条件式の真偽を結合してその結果を返す。結果はTrue / Falseで返される。\n",
    "論理積、論理和、排他的論理和、否定の4式ですべての演算のパターンを表せる"
   ]
  },
  {
   "cell_type": "code",
   "execution_count": 25,
   "id": "0afb1c61",
   "metadata": {},
   "outputs": [
    {
     "name": "stdout",
     "output_type": "stream",
     "text": [
      "False\n",
      "True\n",
      "True\n",
      "False\n"
     ]
    }
   ],
   "source": [
    "bool1 = True\n",
    "bool2 = False\n",
    "\n",
    "print(bool1 and bool2)\n",
    "print(bool1 or bool2)\n",
    "print(bool1 ^ bool2)\n",
    "print(not bool1)"
   ]
  },
  {
   "cell_type": "code",
   "execution_count": null,
   "id": "a4e21a6c",
   "metadata": {},
   "outputs": [],
   "source": []
  }
 ],
 "metadata": {
  "kernelspec": {
   "display_name": "Python 3 (ipykernel)",
   "language": "python",
   "name": "python3"
  },
  "language_info": {
   "codemirror_mode": {
    "name": "ipython",
    "version": 3
   },
   "file_extension": ".py",
   "mimetype": "text/x-python",
   "name": "python",
   "nbconvert_exporter": "python",
   "pygments_lexer": "ipython3",
   "version": "3.9.12"
  },
  "varInspector": {
   "cols": {
    "lenName": 16,
    "lenType": 16,
    "lenVar": 40
   },
   "kernels_config": {
    "python": {
     "delete_cmd_postfix": "",
     "delete_cmd_prefix": "del ",
     "library": "var_list.py",
     "varRefreshCmd": "print(var_dic_list())"
    },
    "r": {
     "delete_cmd_postfix": ") ",
     "delete_cmd_prefix": "rm(",
     "library": "var_list.r",
     "varRefreshCmd": "cat(var_dic_list()) "
    }
   },
   "types_to_exclude": [
    "module",
    "function",
    "builtin_function_or_method",
    "instance",
    "_Feature"
   ],
   "window_display": false
  }
 },
 "nbformat": 4,
 "nbformat_minor": 5
}
