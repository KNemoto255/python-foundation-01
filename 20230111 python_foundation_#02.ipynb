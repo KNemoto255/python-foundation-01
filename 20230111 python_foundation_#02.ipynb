{
 "cells": [
  {
   "cell_type": "markdown",
   "id": "e035e284",
   "metadata": {},
   "source": [
    "# 変数の使い方について\n",
    "\n",
    "PythonではJava・C#と違い、データ型を宣言する必要がない。\n",
    "変数の様な関数・クラスなどを識別するための記号を、識別子という。\n",
    "Pythonの識別子は、以下の用法を守る必要がある\n",
    "\n",
    "1. Unicode文字を利用できる(アンダースコア以外の記号は不可)\n",
    "2. 1文字目は数字以外である\n",
    "3. アルファベットの大文字／小文字は区別される\n",
    "4. 予約語でないこと\n",
    "5. 文字数の制限はない\n",
    "\n",
    "基本的に、識別子につかう記号は英数字・アンダースコアに限定する\n",
    "\n",
    "1. 名前からデータの内容を類推できる\n",
    "2. 長すぎない + 短すぎない\n",
    "3. ローマ字での命名は避ける\n",
    "4. 見た目が紛らわしくない\n",
    "5. 記法を統一する\n",
    "6. 先頭のアンダースコア\n",
    "\n",
    "良い記法の例としては、camelCase記法、Pascal記法、アンダースコア記法等がある。\n",
    "Pythonでは変数・関数にアンダースコア記法、クラスにPascal記法を使うのが普通\n",
    "\n",
    "- camelCase記法 - userName\n",
    "- Pascal記法 - UserName\n",
    "- アンダースコア記法 - user_name, USER_NAME\n"
   ]
  },
  {
   "cell_type": "code",
   "execution_count": 1,
   "id": "10a01635",
   "metadata": {},
   "outputs": [
    {
     "name": "stdout",
     "output_type": "stream",
     "text": [
      "Hello world!!\n"
     ]
    },
    {
     "ename": "NameError",
     "evalue": "name 'name' is not defined",
     "output_type": "error",
     "traceback": [
      "\u001b[1;31m---------------------------------------------------------------------------\u001b[0m",
      "\u001b[1;31mNameError\u001b[0m                                 Traceback (most recent call last)",
      "Input \u001b[1;32mIn [1]\u001b[0m, in \u001b[0;36m<cell line: 8>\u001b[1;34m()\u001b[0m\n\u001b[0;32m      6\u001b[0m name \u001b[38;5;241m=\u001b[39m \u001b[38;5;124m\"\u001b[39m\u001b[38;5;124mPython\u001b[39m\u001b[38;5;124m\"\u001b[39m\n\u001b[0;32m      7\u001b[0m \u001b[38;5;28;01mdel\u001b[39;00m name\n\u001b[1;32m----> 8\u001b[0m \u001b[38;5;28mprint\u001b[39m(\u001b[43mname\u001b[49m)\n",
      "\u001b[1;31mNameError\u001b[0m: name 'name' is not defined"
     ]
    }
   ],
   "source": [
    "msg = \"Hello world!!\"\n",
    "print(msg)\n",
    "\n",
    "#del命令を使えば宣言済みの変数を破棄できる\n",
    "\n",
    "name = \"Python\"\n",
    "del name\n",
    "print(name)"
   ]
  },
  {
   "cell_type": "markdown",
   "id": "5e876a1f",
   "metadata": {},
   "source": [
    "# データ型について\n",
    "\n",
    "Pythonは動的型付け言語とよばれ、変数のデータ型を後から変更することができる。\n",
    "\n",
    "Pythonで使える型の一覧\n",
    "- 数値 - int, float, complex\n",
    "- 文字 - str, bytes\n",
    "- コンテナ - list, tuple, dict, set\n",
    "- その他 - bool, NoneType\n",
    "\n",
    "それぞれの性質から、型には以下の呼称が使われる\n",
    "- ミュータブル（mutable）： 変更可能 \n",
    "- イミュータブル（immutable）： 変更不可 \n",
    "- イテラブル（iterable）： 反復可能\n",
    "- シーケンス（sequence）： 順序を持つ（インデックスでのアクセスが可）\n",
    "- コンテナー（container）： 配下に複数の値を格納可能"
   ]
  },
  {
   "cell_type": "code",
   "execution_count": 2,
   "id": "d947437d",
   "metadata": {},
   "outputs": [
    {
     "name": "stdout",
     "output_type": "stream",
     "text": [
      "2920\n"
     ]
    }
   ],
   "source": [
    "data = \"Python foundation\"\n",
    "data = 2920\n",
    "\n",
    "print(data)"
   ]
  },
  {
   "cell_type": "markdown",
   "id": "aab3da28",
   "metadata": {},
   "source": [
    "# 論理型について\n",
    "\n",
    "以下の値は自動的にFalseと見なされる。 \n",
    "空値（ None） \n",
    "数値 の ゼロ（ 0、 0. 0、 0j など） \n",
    "空文字列、 空のリストなど（''、( )、[ ]、{}、set( )、range(0)）\n",
    "\n",
    "# 数値型について\n",
    "\n",
    "整数リテラル(int)は10進・16進・8進・2進の4種を扱うことができる\n",
    "float型に関しては、指数表現で表すこともできる。\n",
    "(1.173205e-7 = 1.173205 * 10~7)\n",
    "\n",
    "complex型に関しては、c = complex(1,5)の様に実数値から作成できる。 \n",
    "\n",
    "# 文字型について\n",
    "\n",
    "'You are \"great\" teacher'の様なダブルクォーテーションをstr型にしたい場合は、文字列に\n",
    "ふくみたい文書をシングルクオーテーションで囲う\n",
    "\n",
    "文字列にどうしてもHe's の様なシングルクオーテーションを使わなくてはいけない場合は、エスケープシーケンスを使う\n",
    "有用なエスケープシーケンスには、改行とバックスラッシュがある(\\n , \\)"
   ]
  },
  {
   "cell_type": "code",
   "execution_count": 3,
   "id": "8c4bd07a",
   "metadata": {},
   "outputs": [
    {
     "name": "stdout",
     "output_type": "stream",
     "text": [
      "(1+5j)\n",
      "1.0\n",
      "5.0\n"
     ]
    }
   ],
   "source": [
    "c = complex(1,5)\n",
    "print(c)\n",
    "\n",
    "print(c.real) # 結果： 1. 0\n",
    "print(c.imag) # 結果： 5. 0"
   ]
  },
  {
   "cell_type": "code",
   "execution_count": 4,
   "id": "4a8e3040",
   "metadata": {},
   "outputs": [
    {
     "name": "stdout",
     "output_type": "stream",
     "text": [
      "you are \"great\" teacher!\n",
      "you are 'great' teacher!\n",
      "He\\s great teacher!\n",
      "How to print \"great\" teacher with escape sequence\n",
      "改行を無視 → \\ 改行 → \n",
      " →　最後の行\n"
     ]
    }
   ],
   "source": [
    "print('you are \"great\" teacher!')\n",
    "print(\"you are 'great' teacher!\")\n",
    "\n",
    "print(\"He\\s great teacher!\")\n",
    "print(\"How to print \\\"great\\\" teacher with escape sequence\")\n",
    "print(\"改行を無視 → \\ 改行 → \\n →　最後の行\")"
   ]
  },
  {
   "cell_type": "markdown",
   "id": "55451e07",
   "metadata": {},
   "source": [
    "# 特殊な文字列表現について\n",
    "ダブルクオート3つで、複数行の文字列をそのまま表現できる\n",
    "丸カッコの内部では、キーワード／ リテラル の 区切りで自由改行できるという性質がある\n",
    "これは長い文字列になる引数を表現するのに役立つ\n",
    "\n",
    "### ロウ文字列\n",
    "文字列の先頭にrをつけることで、エスケープシーケンスを使わずに表記したままに文字列を表現する\n",
    "\n",
    "### フォーマット文字列\n",
    "文字列の先頭にfをつけることで、文字列内に{}で囲った変数を埋め込むことができる"
   ]
  },
  {
   "cell_type": "code",
   "execution_count": 8,
   "id": "e9c921ee",
   "metadata": {},
   "outputs": [
    {
     "name": "stdout",
     "output_type": "stream",
     "text": [
      "Hello,\n",
      "Next sentence\n",
      "\n",
      "('Hello', 'Next argument')\n",
      "C:\\Users\\user\\Pictures\\イラスト\n",
      "Hello, Zack!\n"
     ]
    }
   ],
   "source": [
    "print(\"\"\"Hello,\n",
    "Next sentence\\n\"\"\")\n",
    "\n",
    "msg = (\n",
    "    \"Hello\",\n",
    "    \"Next argument\"\n",
    ")\n",
    "print(msg)\n",
    "\n",
    "print(r\"C:\\Users\\user\\Pictures\\イラスト\")\n",
    "\n",
    "name = \"Zack\"\n",
    "print(f\"Hello, {name}!\")"
   ]
  },
  {
   "cell_type": "markdown",
   "id": "f9fad7f2",
   "metadata": {},
   "source": [
    "# リスト(list)について\n",
    "リストは複数の値をまとめて扱うのに役立つ。リストは、仕切りのある入れ物と考えるとわかりやすい\n",
    "リストはブラケットでカンマ区切りの値を囲うことで作成できる"
   ]
  },
  {
   "cell_type": "code",
   "execution_count": 10,
   "id": "cd458324",
   "metadata": {},
   "outputs": [
    {
     "name": "stdout",
     "output_type": "stream",
     "text": [
      "['Zack ', 'Byte', 'Wiz']\n",
      "Zack \n"
     ]
    }
   ],
   "source": [
    "data = [\"Zack \",\"Byte\",\"Wiz\"]\n",
    "print(data)\n",
    "print(data[0])"
   ]
  },
  {
   "cell_type": "markdown",
   "id": "6bcb5ad6",
   "metadata": {},
   "source": [
    "## 2次元リスト(行列)の書き方\n",
    "インデックスの参照は上位の要素から順に行う"
   ]
  },
  {
   "cell_type": "code",
   "execution_count": 17,
   "id": "5c163534",
   "metadata": {},
   "outputs": [
    {
     "name": "stdout",
     "output_type": "stream",
     "text": [
      "X2\n",
      "Y1\n",
      "Z3\n"
     ]
    }
   ],
   "source": [
    "data = [\n",
    "    [\"X1\", \"X2\", \"X3\"],\n",
    "    [\"Y1\", \"Y2\", \"Y3\"],\n",
    "    [\"Z1\", \"Z2\", \"Z3\"],\n",
    "]\n",
    "\n",
    "print(data[0][1])\n",
    "print(data[1][0])\n",
    "print(data[2][2])"
   ]
  },
  {
   "cell_type": "markdown",
   "id": "f1215c39",
   "metadata": {},
   "source": [
    "## 3次元リスト(行列)の書き方\n",
    "2次元リストと同様、上位の要素から参照していくことができる"
   ]
  },
  {
   "cell_type": "code",
   "execution_count": 16,
   "id": "310b2924",
   "metadata": {},
   "outputs": [
    {
     "name": "stdout",
     "output_type": "stream",
     "text": [
      "Z1-1\n",
      "Z2-2\n"
     ]
    }
   ],
   "source": [
    "data = [\n",
    "[\n",
    "    [\"X1-1\", \"X2-1\", \"X3-1\"],\n",
    "    [\"Y1-1\", \"Y2-1\", \"Y3-1\"],\n",
    "    [\"Z1-1\", \"Z2-1\", \"Z3-1\"],\n",
    "],\n",
    "[\n",
    "    [\"X1-2\", \"X2-2\", \"X3-2\"],\n",
    "    [\"Y1-2\", \"Y2-2\", \"Y3-2\"],\n",
    "    [\"Z1-2\", \"Z2-2\", \"Z3-2\"],\n",
    "],\n",
    "]\n",
    "\n",
    "print(data[0][2][0])\n",
    "print(data[1][2][1])"
   ]
  }
 ],
 "metadata": {
  "kernelspec": {
   "display_name": "Python 3 (ipykernel)",
   "language": "python",
   "name": "python3"
  },
  "language_info": {
   "codemirror_mode": {
    "name": "ipython",
    "version": 3
   },
   "file_extension": ".py",
   "mimetype": "text/x-python",
   "name": "python",
   "nbconvert_exporter": "python",
   "pygments_lexer": "ipython3",
   "version": "3.9.12"
  },
  "varInspector": {
   "cols": {
    "lenName": 16,
    "lenType": 16,
    "lenVar": 40
   },
   "kernels_config": {
    "python": {
     "delete_cmd_postfix": "",
     "delete_cmd_prefix": "del ",
     "library": "var_list.py",
     "varRefreshCmd": "print(var_dic_list())"
    },
    "r": {
     "delete_cmd_postfix": ") ",
     "delete_cmd_prefix": "rm(",
     "library": "var_list.r",
     "varRefreshCmd": "cat(var_dic_list()) "
    }
   },
   "types_to_exclude": [
    "module",
    "function",
    "builtin_function_or_method",
    "instance",
    "_Feature"
   ],
   "window_display": false
  }
 },
 "nbformat": 4,
 "nbformat_minor": 5
}
