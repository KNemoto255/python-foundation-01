{
 "cells": [
  {
   "cell_type": "markdown",
   "id": "e258435c",
   "metadata": {},
   "source": [
    "## コレクションとコンテナについて\n",
    "データ型の中でも、複数の値を束ねるための仕組みをコレクション・コンテナと呼びます。Pythonにおけるコンテナは、シーケンス・セット・ディクショナリーの3型があります。\n",
    "- シーケンス - 順に並んだ値を扱う。中身の重複・異なる型をあつかえる。いわゆる配列\n",
    "- セット - 順序を持たず、値の重複ができない。数学の集合に近い\n",
    "- ディクショナリー - キー・値の仕組みで要素を管理する。キーは重複不可・値はOK。\n",
    "\n",
    "## シーケンスについて\n",
    "シーケンス型にはlist, tuple, range等の型があります。シーケンス型の要素には、インデックス値を使ってアクセスすることができます。\n",
    "\n",
    "listが扱えるのはイテラブルな型で、`list(iterable)`という宣言でインスタンス化することができます。他にもリスト内包表記や、`sorted(), split()`といったメソッドがlistを返します。"
   ]
  },
  {
   "cell_type": "code",
   "execution_count": 3,
   "id": "6da4e632",
   "metadata": {},
   "outputs": [
    {
     "name": "stdout",
     "output_type": "stream",
     "text": [
      "['x', 'y', 'z']\n",
      "['a', 'b', 'c']\n",
      "['あ', 'い', 'う', 'え']\n",
      "['か', 'き', 'く', 'け']\n",
      "['あ', 'う', 'こ', 'き', 'け']\n"
     ]
    },
    {
     "data": {
      "text/plain": [
       "10"
      ]
     },
     "execution_count": 3,
     "metadata": {},
     "output_type": "execute_result"
    }
   ],
   "source": [
    "my_list = list([\"x\",\"y\",\"z\"])\n",
    "my_list02 = list(\"abc\")\n",
    "\n",
    "print(my_list)\n",
    "print(my_list02)\n",
    "\n",
    "#スライス構文\n",
    "#list[start:end:step]\n",
    "my_list03 = list(\"あいうえこかきくけこ\")\n",
    "\n",
    "print(my_list03[0:4])\n",
    "print(my_list03[5:9])\n",
    "print(my_list03[0:9:2])\n",
    "\n",
    "#リストの要素数を取得\n",
    "len(my_list03)"
   ]
  },
  {
   "cell_type": "markdown",
   "id": "39e514f6",
   "metadata": {},
   "source": [
    "### listの要素の操作について\n",
    "listのメソッドを使うことで、要素を追加・削除できます。"
   ]
  },
  {
   "cell_type": "code",
   "execution_count": 5,
   "id": "53342dca",
   "metadata": {},
   "outputs": [
    {
     "name": "stdout",
     "output_type": "stream",
     "text": [
      "['a', 'b', 'c', 'd', 'e', 'f', 'g', 'h', 'i', 'j', 'k', 'l', 'm', 'n', 'o']\n",
      "['a', 'b', 'c', 'd', 'e', '*INSERTED*', 'f', 'g', 'h', 'i', 'j', 'k', 'l', 'm', 'n', 'o']\n",
      "['a', 'b', 'c', 'd', 'e', '*INSERTED*', 'f', 'g', 'h', 'i', 'j', 'k', 'l', 'm', 'n']\n",
      "['b', 'c', 'd', 'e', '*INSERTED*', 'f', 'g', 'h', 'i', 'j', 'k', 'l', 'm', 'n']\n",
      "[]\n"
     ]
    }
   ],
   "source": [
    "my_list_04 = list(\"abcdefghijklmn\")\n",
    "my_list_04.append(\"o\") #末尾に追加\n",
    "print(my_list_04)\n",
    "\n",
    "my_list_04.insert(5, \"*INSERTED*\") #インデックスの直前に追加\n",
    "print(my_list_04)\n",
    "\n",
    "my_list_04.pop() #インデックスの値を削除（値を取り出している）\n",
    "print(my_list_04)\n",
    "\n",
    "my_list_04.remove(\"a\") #要素を削除（前から順にヒットした1つの要素のみ\n",
    "print(my_list_04)\n",
    "\n",
    "my_list_04.clear() #リストを空リストにする\n",
    "print(my_list_04)"
   ]
  },
  {
   "cell_type": "markdown",
   "id": "7b761a8d",
   "metadata": {},
   "source": [
    "試しに、listのメソッドを使ってスタック(後入れ先出し式、LIFO)を実装してみました。"
   ]
  },
  {
   "cell_type": "code",
   "execution_count": 6,
   "id": "ba8f0826",
   "metadata": {},
   "outputs": [
    {
     "name": "stdout",
     "output_type": "stream",
     "text": [
      "[10, 15, 30]\n",
      "30\n",
      "[10, 15]\n"
     ]
    }
   ],
   "source": [
    "data =[]\n",
    "data.append(10)\n",
    "data.append(15)\n",
    "data.append(30)\n",
    "\n",
    "print(data)\n",
    "print(data.pop())\n",
    "print(data)"
   ]
  },
  {
   "cell_type": "markdown",
   "id": "06545509",
   "metadata": {},
   "source": [
    "リスト内包表記を使って指定した全ての要素を削除することもできます。"
   ]
  },
  {
   "cell_type": "code",
   "execution_count": 7,
   "id": "6bb4b24e",
   "metadata": {},
   "outputs": [
    {
     "name": "stdout",
     "output_type": "stream",
     "text": [
      "['b', 'b', 'c']\n"
     ]
    }
   ],
   "source": [
    "data = list([\"a\",\"b\",\"b\",\"a\",\"c\"])\n",
    "data = [elem for elem in data if elem != \"a\"]\n",
    "\n",
    "print(data)"
   ]
  },
  {
   "cell_type": "markdown",
   "id": "6bed219f",
   "metadata": {},
   "source": [
    "スライスを使えば、指定したインデックスの間にある複数の要素をまとめて置換することができます。"
   ]
  },
  {
   "cell_type": "code",
   "execution_count": 11,
   "id": "6bba4397",
   "metadata": {},
   "outputs": [
    {
     "name": "stdout",
     "output_type": "stream",
     "text": [
      "['あ', '1', '2', '3', 'お']\n",
      "['あ', 'お']\n"
     ]
    }
   ],
   "source": [
    "data = list(\"あいうえお\")\n",
    "data[1:4] = [\"1\",\"2\",\"3\"]\n",
    "print(data)\n",
    "\n",
    "del data[1:4]\n",
    "print(data)"
   ]
  },
  {
   "cell_type": "markdown",
   "id": "b87c90a3",
   "metadata": {},
   "source": [
    "## リストの検索と置換\n",
    "indexメソッドでリスト内の要素を検索してインデックス値を返り値にすることができます。検索範囲のインデックスと、降順・昇順を指定することができます。"
   ]
  },
  {
   "cell_type": "code",
   "execution_count": 17,
   "id": "d545eef7",
   "metadata": {},
   "outputs": [
    {
     "name": "stdout",
     "output_type": "stream",
     "text": [
      "0\n",
      "7\n",
      "7\n",
      "7\n"
     ]
    }
   ],
   "source": [
    "data = list(\"いろはにほへとちりぬるを\")\n",
    "\n",
    "print(data.index(\"い\"))\n",
    "print(data.index(\"ち\", 4))\n",
    "print(data.index(\"ち\", 0, 10))\n",
    "print(data.index(\"ち\", -0, -1))"
   ]
  },
  {
   "cell_type": "markdown",
   "id": "fbefbc56",
   "metadata": {},
   "source": [
    "同一の要素が登場する回数をカウントするには、countメソッドを使います。"
   ]
  },
  {
   "cell_type": "code",
   "execution_count": 18,
   "id": "cb9bc0f6",
   "metadata": {},
   "outputs": [
    {
     "name": "stdout",
     "output_type": "stream",
     "text": [
      "3\n"
     ]
    }
   ],
   "source": [
    "data = list(\"いろはにほへとちりぬるを・いろいろ\")\n",
    "print(data.count(\"い\"))"
   ]
  },
  {
   "cell_type": "markdown",
   "id": "39973bb6",
   "metadata": {},
   "source": [
    "## リストの連結\n",
    "appendを使ってリストを連結しようとすると、リストそのものが1つの要素として扱われてしまいます。要素を各個ごとに連結した場合は、演算子を使います。"
   ]
  },
  {
   "cell_type": "code",
   "execution_count": 20,
   "id": "96c48785",
   "metadata": {},
   "outputs": [
    {
     "name": "stdout",
     "output_type": "stream",
     "text": [
      "['い', 'ろ', 'は', 'に', 'ほ', 'へ', 'と', 'ち', 'り', 'ぬ', 'る', 'を']\n",
      "['い', 'ろ', 'は', 'に', 'ほ', 'へ', 'と', 'ち', 'り', 'ぬ', 'る', 'を']\n",
      "['い', 'ろ', 'は', 'に', 'ほ', 'へ', 'と', ['ち', 'り', 'ぬ', 'る', 'を']]\n"
     ]
    }
   ],
   "source": [
    "data = list(\"いろはにほへと\")\n",
    "data02 = list(\"ちりぬるを\")\n",
    "print(data + data02)\n",
    "\n",
    "data03 = list()\n",
    "data03 += data\n",
    "data03 += data02\n",
    "print(data03)\n",
    "\n",
    "#appendを使ってリストを連結しようとすると、リストそのものが1つの要素として扱われてしまう\n",
    "data04 = data\n",
    "data04.append(data02)\n",
    "print(data04)"
   ]
  },
  {
   "cell_type": "markdown",
   "id": "0a8609ed",
   "metadata": {},
   "source": [
    "## リストをソートする\n",
    "sortメソッドを用いて、リストの要素を降順・昇順にソートすることができます。\n",
    "sortは要素の型に応じて大小を判定します。数値型は値の大小で、文字型は文字の辞書順でソートされます。\n",
    "sortの引数にキーオプションとラムダ式を使えば、独自のルールで並べ替えることができます。"
   ]
  },
  {
   "cell_type": "code",
   "execution_count": 22,
   "id": "6d41747b",
   "metadata": {},
   "outputs": [
    {
     "name": "stdout",
     "output_type": "stream",
     "text": [
      "[13, 65, 78, 205]\n",
      "['apple', 'banana', 'melon', 'orange']\n",
      "['pen', 'ipad', 'mouse', 'waterbottole']\n"
     ]
    }
   ],
   "source": [
    "data_numeric = [205, 13, 78, 65]\n",
    "data_string = [\"banana\",\"apple\",\"orange\",\"melon\"]\n",
    "data_lambda = [\"pen\",\"ipad\",\"mouse\",\"waterbottole\"]\n",
    "data_numeric.sort()\n",
    "data_string.sort()\n",
    "data_lambda.sort(key=lambda x:len(x)) #リテラルの文字数でソートする\n",
    "\n",
    "print(data_numeric)\n",
    "print(data_string)\n",
    "print(data_lambda)"
   ]
  },
  {
   "cell_type": "markdown",
   "id": "f5f60373",
   "metadata": {},
   "source": [
    "## リストをforループを使って処理\n",
    "インデックス・値をforで取り出すほかにもenumerate・zipを使うことでより複雑なリスト処理が実装できます。"
   ]
  },
  {
   "cell_type": "code",
   "execution_count": 27,
   "id": "9217ec3f",
   "metadata": {},
   "outputs": [
    {
     "name": "stdout",
     "output_type": "stream",
     "text": [
      "0 : Panda\n",
      "1 : Rabbit\n",
      "2 : Koara\n",
      "3 : Tiger\n",
      "Panda  Translated:  パンダ\n",
      "Rabbit  Translated:  ウサギ\n",
      "Koara  Translated:  コアラ\n",
      "Tiger  Translated:  トラ\n"
     ]
    }
   ],
   "source": [
    "data = [\"Panda\",\"Rabbit\",\"Koara\",\"Tiger\"]\n",
    "data02 = [\"パンダ\",\"ウサギ\",\"コアラ\",\"トラ\"]\n",
    "\n",
    "#インデックスと値を全て表示\n",
    "for index, value in enumerate(data):\n",
    "    print(index, \":\",value)\n",
    "\n",
    "#二つのリストの値を双方抽出する\n",
    "for d1, d2 in zip (data, data02):\n",
    "    print(d1, \" Translated: \", d2)"
   ]
  },
  {
   "cell_type": "markdown",
   "id": "550cca04",
   "metadata": {},
   "source": [
    "## リスト内要素の真偽を判定\n",
    "allで全てがTrueか、anyで1つでもTrueがあるか、not anyで全てがFalseかを判定できます。要素が空か否か、条件を満たしているかも判定できます。"
   ]
  },
  {
   "cell_type": "code",
   "execution_count": 23,
   "id": "6165dca1",
   "metadata": {},
   "outputs": [
    {
     "name": "stdout",
     "output_type": "stream",
     "text": [
      "False\n",
      "True\n",
      "False\n",
      "False\n",
      "True\n"
     ]
    }
   ],
   "source": [
    "print(all([False, True, False]))\n",
    "print(any([False, True, False]))\n",
    "print(not any([False, True, False]))\n",
    "\n",
    "print(any([\"\",\"\"]))\n",
    "\n",
    "data =[\"Rose\",\"Cherry\",\"Lily\",\"Tulip\"]\n",
    "print(any([len(str)> 4 for str in data]))"
   ]
  },
  {
   "cell_type": "markdown",
   "id": "6fb65c17",
   "metadata": {},
   "source": [
    "## リスト内要素を加工→新しいリストをつくる\n",
    "mapメソッドとlambda式を組み合わせることで、リスト内包のように新しいリストを生成できます。2つ以上のリストを組み合わせる表記も可能です。"
   ]
  },
  {
   "cell_type": "code",
   "execution_count": 25,
   "id": "f4e2c5ba",
   "metadata": {},
   "outputs": [
    {
     "name": "stdout",
     "output_type": "stream",
     "text": [
      "[1, 9, 25]\n",
      "[2, 21, 50]\n"
     ]
    }
   ],
   "source": [
    "data = [1,3,5]\n",
    "result = map(lambda v: v * v, data)\n",
    "print(list(result))\n",
    "\n",
    "data = [1,3,5]\n",
    "data2 = [2,7,10]\n",
    "result = map(lambda v1, v2:v1*v2,data, data2)\n",
    "print(list(result))"
   ]
  },
  {
   "cell_type": "markdown",
   "id": "77c1e91c",
   "metadata": {},
   "source": [
    "## リストの要素を条件で絞り込み\n",
    "リストの要素を条件で絞り込むには、filterメソッドを使います。"
   ]
  },
  {
   "cell_type": "code",
   "execution_count": 26,
   "id": "736a3aef",
   "metadata": {},
   "outputs": [
    {
     "name": "stdout",
     "output_type": "stream",
     "text": [
      "['コーギー']\n"
     ]
    }
   ],
   "source": [
    "data = [\"フレンチブルドッグ\",\"ヨークシャーテリア\",\"コーギー\"]\n",
    "result = filter(lambda v:len(v) < 8,data)\n",
    "print(list(result))"
   ]
  },
  {
   "cell_type": "code",
   "execution_count": null,
   "id": "55b94735",
   "metadata": {},
   "outputs": [],
   "source": []
  }
 ],
 "metadata": {
  "kernelspec": {
   "display_name": "Python 3 (ipykernel)",
   "language": "python",
   "name": "python3"
  },
  "language_info": {
   "codemirror_mode": {
    "name": "ipython",
    "version": 3
   },
   "file_extension": ".py",
   "mimetype": "text/x-python",
   "name": "python",
   "nbconvert_exporter": "python",
   "pygments_lexer": "ipython3",
   "version": "3.9.12"
  },
  "varInspector": {
   "cols": {
    "lenName": 16,
    "lenType": 16,
    "lenVar": 40
   },
   "kernels_config": {
    "python": {
     "delete_cmd_postfix": "",
     "delete_cmd_prefix": "del ",
     "library": "var_list.py",
     "varRefreshCmd": "print(var_dic_list())"
    },
    "r": {
     "delete_cmd_postfix": ") ",
     "delete_cmd_prefix": "rm(",
     "library": "var_list.r",
     "varRefreshCmd": "cat(var_dic_list()) "
    }
   },
   "types_to_exclude": [
    "module",
    "function",
    "builtin_function_or_method",
    "instance",
    "_Feature"
   ],
   "window_display": false
  }
 },
 "nbformat": 4,
 "nbformat_minor": 5
}
