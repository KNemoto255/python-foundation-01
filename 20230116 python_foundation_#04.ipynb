{
 "cells": [
  {
   "cell_type": "markdown",
   "id": "e035e284",
   "metadata": {},
   "source": [
    "# 制御構文に関する章\n",
    "\n",
    "# 条件分岐について\n",
    "\n",
    "if-else文を使えば、与えられた条件を使って実行するべき処理を変えられる。\n",
    "if-elif文の場合、複数の条件に合致しても実行されるのは最初に合致した命令だけである。\n",
    "\n",
    "==演算子を使った多岐分岐となる場合は、dictionaryを活用すると効率がいい\n"
   ]
  },
  {
   "cell_type": "code",
   "execution_count": 3,
   "id": "9a956ace",
   "metadata": {},
   "outputs": [
    {
     "name": "stdout",
     "output_type": "stream",
     "text": [
      "Condition is TRUE.\n",
      "変数 > 50\n"
     ]
    }
   ],
   "source": [
    "cond = True\n",
    "if cond:\n",
    "    print(\"Condition is TRUE.\")\n",
    "else:\n",
    "    print(\"Condition is FALSE.\")\n",
    "\n",
    "i = 100\n",
    "if i > 50:\n",
    "    print(\"変数 > 50\")\n",
    "elif i > 30:\n",
    "    print(\"変数 > 30\")\n",
    "else:\n",
    "    print(\"変数 < 30\")\n"
   ]
  },
  {
   "cell_type": "code",
   "execution_count": 4,
   "id": "4a5ee042",
   "metadata": {},
   "outputs": [
    {
     "name": "stdout",
     "output_type": "stream",
     "text": [
      "まあまあ\n"
     ]
    }
   ],
   "source": [
    "rank = \"B\"\n",
    "msg = {\n",
    "    \"A\":\"良いですね\",\n",
    "    \"B\":\"まあまあ\",\n",
    "    \"C\":\"ダメ！\"\n",
    "}\n",
    "\n",
    "if rank in msg:\n",
    "    print(msg[rank])\n",
    "else:\n",
    "    print(\"???\")"
   ]
  },
  {
   "cell_type": "markdown",
   "id": "bf70fb6b",
   "metadata": {},
   "source": [
    "# 繰り返し処理について\n",
    "\n",
    "while文を使えば、条件が真の間だけ処理を繰り返す\n",
    "繰り返し処理を行う場合は、無限ループが発生しないような条件式とする\n",
    "for文を使えば、in演算子をつかってリストの中の要素分だけ処理を行うことができる"
   ]
  },
  {
   "cell_type": "code",
   "execution_count": 7,
   "id": "8cde969c",
   "metadata": {},
   "outputs": [
    {
     "name": "stdout",
     "output_type": "stream",
     "text": [
      "1 番のループを表示\n",
      "2 番のループを表示\n",
      "3 番のループを表示\n",
      "4 番のループを表示\n",
      "5 番のループを表示\n",
      "札幌\n",
      "東京\n",
      "大阪\n",
      "f\n",
      "o\n",
      "r\n",
      "文\n",
      "を\n",
      "使\n",
      "っ\n",
      "て\n",
      "文\n",
      "字\n",
      "列\n",
      "を\n",
      "処\n",
      "理\n",
      "1 番目のループ\n",
      "2 番目のループ\n",
      "3 番目のループ\n",
      "4 番目のループ\n",
      "5 番目のループ\n",
      "0 rangeの使い方、その1\n",
      "2 rangeの使い方、その1\n",
      "4 rangeの使い方、その1\n",
      "6 rangeの使い方、その1\n",
      "8 rangeの使い方、その1\n",
      "5 rangeの使い方、その2\n",
      "4 rangeの使い方、その2\n",
      "3 rangeの使い方、その2\n",
      "2 rangeの使い方、その2\n",
      "1 rangeの使い方、その2\n",
      "[0, 2, 4, 6]\n"
     ]
    }
   ],
   "source": [
    "i = 1\n",
    "while i <6:\n",
    "    print(i, \"番のループを表示\")\n",
    "    i += 1\n",
    "\n",
    "data = [\"札幌\",\"東京\",\"大阪\"]\n",
    "for value in data:\n",
    "    print(value)\n",
    "data = \"for文を使って文字列を処理\"\n",
    "for value in data:\n",
    "    print(value)\n",
    "\n",
    "for i in range(1,6):\n",
    "    print(i, \"番目のループ\")\n",
    "for i in range(0,10,2):\n",
    "    print(i, \"rangeの使い方、その1\")\n",
    "for i in range(5,0,-1):\n",
    "    print(i, \"rangeの使い方、その2\")\n",
    "\n",
    "print(list(range(0,7,2)))"
   ]
  },
  {
   "cell_type": "markdown",
   "id": "a305925c",
   "metadata": {},
   "source": [
    "# 内包表記の使い方\n",
    "内包表記を使うことで、リストの作成に使う処理を簡潔に書くことができる"
   ]
  },
  {
   "cell_type": "code",
   "execution_count": 10,
   "id": "4329bd53",
   "metadata": {},
   "outputs": [
    {
     "name": "stdout",
     "output_type": "stream",
     "text": [
      "[30, 86, 14, 118, 196]\n",
      "[30, 86, 14, 118, 196]\n",
      "65\n"
     ]
    }
   ],
   "source": [
    "#dataの値を2倍にした数のリストを作成する\n",
    "data = [15,43,7,59,98]\n",
    "data2 = [i * 2 for i in data]\n",
    "print(data2)\n",
    "\n",
    "#内包表記の処理は、for文をつかって記述もできる\n",
    "data3 = [15,43,7,59,98]\n",
    "data4 = []\n",
    "for i in data3:\n",
    "    data4.append(i*2)\n",
    "print(data4)\n",
    "\n",
    "#リスト内包表記では、if節を利用することでリストの内容を絞り込むことができる\n",
    "data = [15,43,7,59,98]\n",
    "data2 = sum([i for i in data if i < 50])\n",
    "print(data2)"
   ]
  },
  {
   "cell_type": "markdown",
   "id": "ac3ada29",
   "metadata": {},
   "source": [
    "# ループの制御\n",
    "\n",
    "## break, continue,tryの使い方\n",
    "breakを使うとfor文ループを終了させる。主に条件分岐と組み合わせて使用する。\n",
    "continueを使うと、その時のループ処理だけをスキップする。条件分岐と組み合わせて使用する。\n",
    "コンパイルエラーが起きた際の例外処理を実装するには、try-except-finally構文を使う\n",
    "else文を使えば、break・continueを使わなくても処理を記述できる"
   ]
  },
  {
   "cell_type": "code",
   "execution_count": 11,
   "id": "5e6d9c83",
   "metadata": {},
   "outputs": [
    {
     "name": "stdout",
     "output_type": "stream",
     "text": [
      "合計が1000を超える時の値→ 1035\n",
      "1 - 100までの奇数の合計は、 2550 です\n",
      "ループ終了\n",
      "ループ終了\n",
      "ループ終了\n"
     ]
    },
    {
     "ename": "KeyboardInterrupt",
     "evalue": "Interrupted by user",
     "output_type": "error",
     "traceback": [
      "\u001b[1;31m---------------------------------------------------------------------------\u001b[0m",
      "\u001b[1;31mKeyboardInterrupt\u001b[0m                         Traceback (most recent call last)",
      "Input \u001b[1;32mIn [11]\u001b[0m, in \u001b[0;36m<cell line: 23>\u001b[1;34m()\u001b[0m\n\u001b[0;32m     22\u001b[0m \u001b[38;5;28;01mwhile\u001b[39;00m \u001b[38;5;28;01mTrue\u001b[39;00m:\n\u001b[0;32m     23\u001b[0m     \u001b[38;5;28;01mtry\u001b[39;00m:\n\u001b[1;32m---> 24\u001b[0m         num \u001b[38;5;241m=\u001b[39m \u001b[38;5;28;43minput\u001b[39;49m\u001b[43m(\u001b[49m\u001b[38;5;124;43m\"\u001b[39;49m\u001b[38;5;124;43m数字を入力\u001b[39;49m\u001b[38;5;124;43m\"\u001b[39;49m\u001b[43m)\u001b[49m\n\u001b[0;32m     25\u001b[0m         \u001b[38;5;28mprint\u001b[39m(\u001b[38;5;28mfloat\u001b[39m(num))\n\u001b[0;32m     26\u001b[0m     \u001b[38;5;28;01mexcept\u001b[39;00m \u001b[38;5;167;01mValueError\u001b[39;00m:\n",
      "File \u001b[1;32mC:\\ProgramData\\Anaconda3\\lib\\site-packages\\ipykernel\\kernelbase.py:1075\u001b[0m, in \u001b[0;36mKernel.raw_input\u001b[1;34m(self, prompt)\u001b[0m\n\u001b[0;32m   1071\u001b[0m \u001b[38;5;28;01mif\u001b[39;00m \u001b[38;5;129;01mnot\u001b[39;00m \u001b[38;5;28mself\u001b[39m\u001b[38;5;241m.\u001b[39m_allow_stdin:\n\u001b[0;32m   1072\u001b[0m     \u001b[38;5;28;01mraise\u001b[39;00m StdinNotImplementedError(\n\u001b[0;32m   1073\u001b[0m         \u001b[38;5;124m\"\u001b[39m\u001b[38;5;124mraw_input was called, but this frontend does not support input requests.\u001b[39m\u001b[38;5;124m\"\u001b[39m\n\u001b[0;32m   1074\u001b[0m     )\n\u001b[1;32m-> 1075\u001b[0m \u001b[38;5;28;01mreturn\u001b[39;00m \u001b[38;5;28;43mself\u001b[39;49m\u001b[38;5;241;43m.\u001b[39;49m\u001b[43m_input_request\u001b[49m\u001b[43m(\u001b[49m\n\u001b[0;32m   1076\u001b[0m \u001b[43m    \u001b[49m\u001b[38;5;28;43mstr\u001b[39;49m\u001b[43m(\u001b[49m\u001b[43mprompt\u001b[49m\u001b[43m)\u001b[49m\u001b[43m,\u001b[49m\n\u001b[0;32m   1077\u001b[0m \u001b[43m    \u001b[49m\u001b[38;5;28;43mself\u001b[39;49m\u001b[38;5;241;43m.\u001b[39;49m\u001b[43m_parent_ident\u001b[49m\u001b[43m[\u001b[49m\u001b[38;5;124;43m\"\u001b[39;49m\u001b[38;5;124;43mshell\u001b[39;49m\u001b[38;5;124;43m\"\u001b[39;49m\u001b[43m]\u001b[49m\u001b[43m,\u001b[49m\n\u001b[0;32m   1078\u001b[0m \u001b[43m    \u001b[49m\u001b[38;5;28;43mself\u001b[39;49m\u001b[38;5;241;43m.\u001b[39;49m\u001b[43mget_parent\u001b[49m\u001b[43m(\u001b[49m\u001b[38;5;124;43m\"\u001b[39;49m\u001b[38;5;124;43mshell\u001b[39;49m\u001b[38;5;124;43m\"\u001b[39;49m\u001b[43m)\u001b[49m\u001b[43m,\u001b[49m\n\u001b[0;32m   1079\u001b[0m \u001b[43m    \u001b[49m\u001b[43mpassword\u001b[49m\u001b[38;5;241;43m=\u001b[39;49m\u001b[38;5;28;43;01mFalse\u001b[39;49;00m\u001b[43m,\u001b[49m\n\u001b[0;32m   1080\u001b[0m \u001b[43m\u001b[49m\u001b[43m)\u001b[49m\n",
      "File \u001b[1;32mC:\\ProgramData\\Anaconda3\\lib\\site-packages\\ipykernel\\kernelbase.py:1120\u001b[0m, in \u001b[0;36mKernel._input_request\u001b[1;34m(self, prompt, ident, parent, password)\u001b[0m\n\u001b[0;32m   1117\u001b[0m             \u001b[38;5;28;01mbreak\u001b[39;00m\n\u001b[0;32m   1118\u001b[0m \u001b[38;5;28;01mexcept\u001b[39;00m \u001b[38;5;167;01mKeyboardInterrupt\u001b[39;00m:\n\u001b[0;32m   1119\u001b[0m     \u001b[38;5;66;03m# re-raise KeyboardInterrupt, to truncate traceback\u001b[39;00m\n\u001b[1;32m-> 1120\u001b[0m     \u001b[38;5;28;01mraise\u001b[39;00m \u001b[38;5;167;01mKeyboardInterrupt\u001b[39;00m(\u001b[38;5;124m\"\u001b[39m\u001b[38;5;124mInterrupted by user\u001b[39m\u001b[38;5;124m\"\u001b[39m) \u001b[38;5;28;01mfrom\u001b[39;00m \u001b[38;5;28mNone\u001b[39m\n\u001b[0;32m   1121\u001b[0m \u001b[38;5;28;01mexcept\u001b[39;00m \u001b[38;5;167;01mException\u001b[39;00m:\n\u001b[0;32m   1122\u001b[0m     \u001b[38;5;28mself\u001b[39m\u001b[38;5;241m.\u001b[39mlog\u001b[38;5;241m.\u001b[39mwarning(\u001b[38;5;124m\"\u001b[39m\u001b[38;5;124mInvalid Message:\u001b[39m\u001b[38;5;124m\"\u001b[39m, exc_info\u001b[38;5;241m=\u001b[39m\u001b[38;5;28;01mTrue\u001b[39;00m)\n",
      "\u001b[1;31mKeyboardInterrupt\u001b[0m: Interrupted by user"
     ]
    }
   ],
   "source": [
    "sum = 0\n",
    "for i in range(1,101):\n",
    "    sum += i\n",
    "    if sum > 1000:\n",
    "        break\n",
    "print(\"合計が1000を超える時の値→\", sum)\n",
    "\n",
    "sum = 0\n",
    "for i in range(1,101):\n",
    "    if i % 2 != 0:\n",
    "        continue\n",
    "    sum += i\n",
    "print(\"1 - 100までの奇数の合計は、\", sum, \"です\")\n",
    "\n",
    "data = [\"桜\",\"梅\",\"桔梗\"]\n",
    "for name in data:\n",
    "    if name == \"x\":\n",
    "        break\n",
    "    else:\n",
    "        print(\"ループ終了\")"
   ]
  },
  {
   "cell_type": "code",
   "execution_count": 13,
   "id": "37824e33",
   "metadata": {},
   "outputs": [
    {
     "name": "stdout",
     "output_type": "stream",
     "text": [
      "数字を入力あ\n",
      "入力値が数値ではありません\n",
      "数字を入力1\n",
      "1.0\n"
     ]
    }
   ],
   "source": [
    "#tryが成功しない限り、ループが繰り返される\n",
    "while True:\n",
    "    try:\n",
    "        num = input(\"数字を入力\")\n",
    "        print(float(num))\n",
    "    except ValueError:\n",
    "        print(\"入力値が数値ではありません\")\n",
    "    else:\n",
    "        break"
   ]
  },
  {
   "cell_type": "code",
   "execution_count": null,
   "id": "88e16de8",
   "metadata": {},
   "outputs": [],
   "source": []
  }
 ],
 "metadata": {
  "kernelspec": {
   "display_name": "Python 3 (ipykernel)",
   "language": "python",
   "name": "python3"
  },
  "language_info": {
   "codemirror_mode": {
    "name": "ipython",
    "version": 3
   },
   "file_extension": ".py",
   "mimetype": "text/x-python",
   "name": "python",
   "nbconvert_exporter": "python",
   "pygments_lexer": "ipython3",
   "version": "3.9.12"
  },
  "varInspector": {
   "cols": {
    "lenName": 16,
    "lenType": 16,
    "lenVar": 40
   },
   "kernels_config": {
    "python": {
     "delete_cmd_postfix": "",
     "delete_cmd_prefix": "del ",
     "library": "var_list.py",
     "varRefreshCmd": "print(var_dic_list())"
    },
    "r": {
     "delete_cmd_postfix": ") ",
     "delete_cmd_prefix": "rm(",
     "library": "var_list.r",
     "varRefreshCmd": "cat(var_dic_list()) "
    }
   },
   "types_to_exclude": [
    "module",
    "function",
    "builtin_function_or_method",
    "instance",
    "_Feature"
   ],
   "window_display": false
  }
 },
 "nbformat": 4,
 "nbformat_minor": 5
}
